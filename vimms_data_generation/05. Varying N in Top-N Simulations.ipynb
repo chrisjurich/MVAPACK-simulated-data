{
 "cells": [
  {
   "cell_type": "markdown",
   "metadata": {},
   "source": [
    "# 5. Varying N in Top-N Simulations"
   ]
  },
  {
   "cell_type": "markdown",
   "metadata": {},
   "source": [
    "This notebook loads an existing Beer1pos data and runs it through the simulator with varying N (the number of precursor peaks selected for fragmentations) for Top-N DDA fragmentation. The results here correspond to Section 3.3 in the paper for the Beer1pos data."
   ]
  },
  {
   "cell_type": "code",
   "execution_count": 1,
   "metadata": {},
   "outputs": [],
   "source": [
    "%load_ext autoreload\n",
    "%autoreload 2\n",
    "%matplotlib inline"
   ]
  },
  {
   "cell_type": "code",
   "execution_count": 2,
   "metadata": {},
   "outputs": [],
   "source": [
    "import numpy as np\n",
    "import pandas as pd\n",
    "import pylab as plt\n",
    "import pymzml\n",
    "import math\n",
    "import seaborn as sns"
   ]
  },
  {
   "cell_type": "code",
   "execution_count": 3,
   "metadata": {},
   "outputs": [],
   "source": [
    "import sys\n",
    "sys.path.append('..')"
   ]
  },
  {
   "cell_type": "code",
   "execution_count": 4,
   "metadata": {},
   "outputs": [],
   "source": [
    "from vimms.Roi import RoiToChemicalCreator, make_roi\n",
    "from vimms.DataGenerator import DataSource, PeakSampler, get_spectral_feature_database\n",
    "from vimms.MassSpec import IndependentMassSpectrometer\n",
    "from vimms.Controller import TopNController\n",
    "from vimms.TopNExperiment import get_params, run_serial_experiment, run_parallel_experiment\n",
    "from vimms.PlotsForPaper import get_df, load_controller, compute_performance_scenario_2\n",
    "from vimms.Common import *"
   ]
  },
  {
   "cell_type": "code",
   "execution_count": 5,
   "metadata": {},
   "outputs": [],
   "source": [
    "set_log_level_debug()"
   ]
  },
  {
   "cell_type": "markdown",
   "metadata": {},
   "source": [
    "## 1. Parameters"
   ]
  },
  {
   "cell_type": "code",
   "execution_count": 6,
   "metadata": {},
   "outputs": [],
   "source": [
    "base_dir = 'example_data'\n",
    "mzml_path = os.path.join(base_dir, 'beers', 'fragmentation', 'mzML')\n",
    "file_name = 'Beer_multibeers_1_T10_POS.mzML'\n",
    "\n",
    "experiment_name = 'beer1pos'\n",
    "experiment_out_dir = os.path.abspath(os.path.join(base_dir, 'results', experiment_name, 'mzML'))"
   ]
  },
  {
   "cell_type": "code",
   "execution_count": 7,
   "metadata": {},
   "outputs": [
    {
     "data": {
      "text/plain": [
       "'C:\\\\Users\\\\joewa\\\\Work\\\\git\\\\vimms\\\\examples\\\\example_data\\\\results\\\\beer1pos\\\\mzML'"
      ]
     },
     "execution_count": 7,
     "metadata": {},
     "output_type": "execute_result"
    }
   ],
   "source": [
    "experiment_out_dir"
   ]
  },
  {
   "cell_type": "code",
   "execution_count": 8,
   "metadata": {},
   "outputs": [],
   "source": [
    "min_rt = 3*60 # start time when compounds begin to elute in the mzML file\n",
    "max_rt = 21*60"
   ]
  },
  {
   "cell_type": "code",
   "execution_count": 9,
   "metadata": {},
   "outputs": [],
   "source": [
    "kde_min_ms1_intensity = 0 # min intensity to be selected for kdes\n",
    "kde_min_ms2_intensity = 0"
   ]
  },
  {
   "cell_type": "markdown",
   "metadata": {},
   "source": [
    "### a. ROI extraction parameters"
   ]
  },
  {
   "cell_type": "code",
   "execution_count": 10,
   "metadata": {},
   "outputs": [],
   "source": [
    "roi_mz_tol = 10\n",
    "roi_min_length = 1\n",
    "roi_min_intensity = 0\n",
    "roi_start_rt = min_rt\n",
    "roi_stop_rt = max_rt"
   ]
  },
  {
   "cell_type": "markdown",
   "metadata": {},
   "source": [
    "### b. Top-N parameters"
   ]
  },
  {
   "cell_type": "code",
   "execution_count": 11,
   "metadata": {},
   "outputs": [],
   "source": [
    "isolation_window = 1   # the isolation window in Dalton around a selected precursor ion\n",
    "ionisation_mode = POSITIVE\n",
    "N = 10\n",
    "rt_tol = 15\n",
    "mz_tol = 10\n",
    "min_ms1_intensity = 1.75E5 # minimum ms1 intensity to fragment"
   ]
  },
  {
   "cell_type": "code",
   "execution_count": 12,
   "metadata": {},
   "outputs": [],
   "source": [
    "mzml_out = os.path.join(experiment_out_dir, 'simulated.mzML')"
   ]
  },
  {
   "cell_type": "markdown",
   "metadata": {},
   "source": [
    "## 2. Train densities"
   ]
  },
  {
   "cell_type": "code",
   "execution_count": 13,
   "metadata": {
    "scrolled": false
   },
   "outputs": [
    {
     "name": "stderr",
     "output_type": "stream",
     "text": [
      "INFO   : DataSource                     : Loading Beer_multibeers_1_T10_POS.mzML\n"
     ]
    }
   ],
   "source": [
    "ds = DataSource()\n",
    "ds.load_data(mzml_path, file_name=file_name)"
   ]
  },
  {
   "cell_type": "code",
   "execution_count": 14,
   "metadata": {},
   "outputs": [
    {
     "name": "stderr",
     "output_type": "stream",
     "text": [
      "DEBUG  : PeakSampler                    : Extracted 7647 MS2 scans\n",
      "DEBUG  : PeakSampler                    : Computing parent intensity proportions\n",
      "DEBUG  : PeakSampler                    : Extracting scan durations\n",
      "DEBUG  : PeakSampler                    : Training KDEs for ms_level=1\n",
      "DEBUG  : PeakSampler                    : Retrieving mz_intensity_rt values from <vimms.DataGenerator.DataSource object at 0x00000233E649CA20>\n",
      "INFO   : DataSource                     : Using values from scans\n",
      "DEBUG  : PeakSampler                    : Retrieving n_peaks values from <vimms.DataGenerator.DataSource object at 0x00000233E649CA20>\n",
      "DEBUG  : PeakSampler                    : Training KDEs for ms_level=2\n",
      "DEBUG  : PeakSampler                    : Retrieving mz_intensity_rt values from <vimms.DataGenerator.DataSource object at 0x00000233E649CA20>\n",
      "INFO   : DataSource                     : Using values from scans\n",
      "DEBUG  : PeakSampler                    : Retrieving n_peaks values from <vimms.DataGenerator.DataSource object at 0x00000233E649CA20>\n"
     ]
    }
   ],
   "source": [
    "bandwidth_mz_intensity_rt=1.0\n",
    "bandwidth_n_peaks=1.0\n",
    "ps = get_spectral_feature_database(ds, file_name, kde_min_ms1_intensity, kde_min_ms2_intensity, min_rt, max_rt,\n",
    "               bandwidth_mz_intensity_rt, bandwidth_n_peaks)"
   ]
  },
  {
   "cell_type": "markdown",
   "metadata": {},
   "source": [
    "## 3. Extract all ROIs"
   ]
  },
  {
   "cell_type": "code",
   "execution_count": 15,
   "metadata": {
    "scrolled": true
   },
   "outputs": [],
   "source": [
    "mzml_file = os.path.join(mzml_path, file_name)\n",
    "good_roi, junk = make_roi(mzml_file, mz_tol=roi_mz_tol, mz_units='ppm', min_length=roi_min_length,\n",
    "                          min_intensity=roi_min_intensity, start_rt=roi_start_rt, stop_rt=roi_stop_rt)"
   ]
  },
  {
   "cell_type": "code",
   "execution_count": 16,
   "metadata": {},
   "outputs": [
    {
     "data": {
      "text/plain": [
       "266107"
      ]
     },
     "execution_count": 16,
     "metadata": {},
     "output_type": "execute_result"
    }
   ],
   "source": [
    "all_roi = good_roi + junk\n",
    "len(all_roi)"
   ]
  },
  {
   "cell_type": "markdown",
   "metadata": {},
   "source": [
    "How many singleton and non-singleton ROIs?"
   ]
  },
  {
   "cell_type": "code",
   "execution_count": 17,
   "metadata": {},
   "outputs": [
    {
     "data": {
      "text/plain": [
       "185119"
      ]
     },
     "execution_count": 17,
     "metadata": {},
     "output_type": "execute_result"
    }
   ],
   "source": [
    "len([roi for roi in all_roi if roi.n == 1])"
   ]
  },
  {
   "cell_type": "code",
   "execution_count": 18,
   "metadata": {},
   "outputs": [
    {
     "data": {
      "text/plain": [
       "80988"
      ]
     },
     "execution_count": 18,
     "metadata": {},
     "output_type": "execute_result"
    }
   ],
   "source": [
    "len([roi for roi in all_roi if roi.n > 1])"
   ]
  },
  {
   "cell_type": "markdown",
   "metadata": {},
   "source": [
    "Keep only the ROIs that can be fragmented above **min_ms1_intensity threshold**."
   ]
  },
  {
   "cell_type": "code",
   "execution_count": 19,
   "metadata": {},
   "outputs": [
    {
     "data": {
      "text/plain": [
       "175000.0"
      ]
     },
     "execution_count": 19,
     "metadata": {},
     "output_type": "execute_result"
    }
   ],
   "source": [
    "min_ms1_intensity"
   ]
  },
  {
   "cell_type": "code",
   "execution_count": 20,
   "metadata": {},
   "outputs": [
    {
     "data": {
      "text/plain": [
       "10079"
      ]
     },
     "execution_count": 20,
     "metadata": {},
     "output_type": "execute_result"
    }
   ],
   "source": [
    "keep = []\n",
    "for roi in all_roi:\n",
    "    if np.count_nonzero(np.array(roi.intensity_list) > min_ms1_intensity) > 0:\n",
    "        keep.append(roi)\n",
    "\n",
    "all_roi = keep\n",
    "len(keep)"
   ]
  },
  {
   "cell_type": "markdown",
   "metadata": {},
   "source": [
    "Turn ROIs into chromatograms/chemicals"
   ]
  },
  {
   "cell_type": "code",
   "execution_count": 21,
   "metadata": {},
   "outputs": [
    {
     "name": "stderr",
     "output_type": "stream",
     "text": [
      "DEBUG  : RoiToChemicalCreator           :      0/ 10079\n",
      "INFO   : RoiToChemicalCreator           : Found 10079 ROIs above thresholds\n"
     ]
    }
   ],
   "source": [
    "set_log_level_debug()\n",
    "rtcc = RoiToChemicalCreator(ps, all_roi)"
   ]
  },
  {
   "cell_type": "code",
   "execution_count": 22,
   "metadata": {},
   "outputs": [
    {
     "name": "stdout",
     "output_type": "stream",
     "text": [
      "Saving <class 'list'> to C:\\Users\\joewa\\Work\\git\\vimms\\examples\\example_data\\results\\beer1pos\\mzML\\dataset.p\n"
     ]
    }
   ],
   "source": [
    "data = rtcc.chemicals\n",
    "save_obj(data, os.path.join(experiment_out_dir, 'dataset.p'))"
   ]
  },
  {
   "cell_type": "markdown",
   "metadata": {},
   "source": [
    "## 4. Run Top-N Controller"
   ]
  },
  {
   "cell_type": "code",
   "execution_count": 23,
   "metadata": {},
   "outputs": [],
   "source": [
    "set_log_level_warning()\n",
    "pbar = False # turn off progress bar"
   ]
  },
  {
   "cell_type": "code",
   "execution_count": 24,
   "metadata": {},
   "outputs": [],
   "source": [
    "Ns = [1, 2, 3, 4, 5, 6, 7, 8, 9, 10, 15, 20, 25, 30, 35, 40, 45, 50, 55, 60, 65, 70, 75, 80, 85, 90, 95, 100]\n",
    "rt_tols = [15]"
   ]
  },
  {
   "cell_type": "code",
   "execution_count": 25,
   "metadata": {},
   "outputs": [
    {
     "name": "stdout",
     "output_type": "stream",
     "text": [
      "N = [1, 2, 3, 4, 5, 6, 7, 8, 9, 10, 15, 20, 25, 30, 35, 40, 45, 50, 55, 60, 65, 70, 75, 80, 85, 90, 95, 100]\n",
      "rt_tol = [15]\n",
      "len(params) = 28\n"
     ]
    }
   ],
   "source": [
    "params = get_params(experiment_name, Ns, rt_tols, mz_tol, isolation_window, ionisation_mode, data, ps, \n",
    "                    min_ms1_intensity, min_rt, max_rt, experiment_out_dir, pbar)"
   ]
  },
  {
   "cell_type": "code",
   "execution_count": 26,
   "metadata": {},
   "outputs": [
    {
     "data": {
      "text/plain": [
       "'C:\\\\Users\\\\joewa\\\\Work\\\\git\\\\vimms\\\\examples\\\\example_data\\\\results\\\\beer1pos\\\\mzML'"
      ]
     },
     "execution_count": 26,
     "metadata": {},
     "output_type": "execute_result"
    }
   ],
   "source": [
    "experiment_out_dir"
   ]
  },
  {
   "cell_type": "markdown",
   "metadata": {},
   "source": [
    "Run the experiments."
   ]
  },
  {
   "cell_type": "code",
   "execution_count": 27,
   "metadata": {
    "scrolled": true
   },
   "outputs": [],
   "source": [
    "# %time run_serial_experiment(params)"
   ]
  },
  {
   "cell_type": "markdown",
   "metadata": {},
   "source": [
    "Alternatively  since each simulated run is completely independent of the others, we can save time by running the different values of N in parallel. Here we use the [iparallel](https://ipyparallel.readthedocs.io/en/latest/) package. To do this, start a local parallel cluster with the following command:\n",
    "\n",
    "$ ipcluster start -n 5\n",
    "\n",
    "where 5 is the number of cores to use (for example)."
   ]
  },
  {
   "cell_type": "code",
   "execution_count": 28,
   "metadata": {},
   "outputs": [
    {
     "name": "stdout",
     "output_type": "stream",
     "text": [
      "experiment_beer1pos_N_1_rttol_15\n",
      "experiment_beer1pos_N_2_rttol_15\n",
      "experiment_beer1pos_N_3_rttol_15\n",
      "experiment_beer1pos_N_4_rttol_15\n",
      "experiment_beer1pos_N_5_rttol_15\n",
      "experiment_beer1pos_N_6_rttol_15\n",
      "experiment_beer1pos_N_7_rttol_15\n",
      "experiment_beer1pos_N_8_rttol_15\n",
      "experiment_beer1pos_N_9_rttol_15\n",
      "experiment_beer1pos_N_10_rttol_15\n",
      "experiment_beer1pos_N_15_rttol_15\n",
      "experiment_beer1pos_N_20_rttol_15\n",
      "experiment_beer1pos_N_25_rttol_15\n",
      "experiment_beer1pos_N_30_rttol_15\n",
      "experiment_beer1pos_N_35_rttol_15\n",
      "experiment_beer1pos_N_40_rttol_15\n",
      "experiment_beer1pos_N_45_rttol_15\n",
      "experiment_beer1pos_N_50_rttol_15\n",
      "experiment_beer1pos_N_55_rttol_15\n",
      "experiment_beer1pos_N_60_rttol_15\n",
      "experiment_beer1pos_N_65_rttol_15\n",
      "experiment_beer1pos_N_70_rttol_15\n",
      "experiment_beer1pos_N_75_rttol_15\n",
      "experiment_beer1pos_N_80_rttol_15\n",
      "experiment_beer1pos_N_85_rttol_15\n",
      "experiment_beer1pos_N_90_rttol_15\n",
      "experiment_beer1pos_N_95_rttol_15\n",
      "experiment_beer1pos_N_100_rttol_15\n",
      "Wall time: 17min 50s\n"
     ]
    }
   ],
   "source": [
    "%time run_parallel_experiment(params)"
   ]
  },
  {
   "cell_type": "markdown",
   "metadata": {},
   "source": [
    "## 5. Analyse Results"
   ]
  },
  {
   "cell_type": "markdown",
   "metadata": {},
   "source": [
    "Now we need to load the ground truth peaks found by xcms from each mzML file.\n",
    "- P = peaks picked by XCMS from the full-scan file\n",
    "- Q = peaks picked by XCMS from the fragmentation file\n",
    "\n",
    "Peak picking was done using the script `extract_peaks.R` in the `example_data/results/ground_truth` folder. "
   ]
  },
  {
   "cell_type": "markdown",
   "metadata": {},
   "source": [
    "**Manual step: to generate the lists of ground truth peaks for evaluation, please run the R script on both the full-scan and simulated fragmentation files.**\n",
    "\n",
    "Requirements:\n",
    "- Ensure that XCMS3 has been installed: https://bioconductor.org/packages/release/bioc/html/xcms.html.\n",
    "\n",
    "Steps for peak picking on simulated fragmentation files:\n",
    "1. Ensure that fragmentation .mzML file are located in `examples\\example_data\\results\\beer1pos`.\n",
    "2. Open a new R window and run the R script `examples\\example_data\\results\\beer1pos\\extract_peaks.R`. The script will process any files found in an `mzML` folder relative to its current location.\n",
    "3. The file `extracted_peaks_ms1.csv` will be created in the folder of step 2.\n",
    "\n",
    "We have provided the peak-picking result for the full-scan file, but to do it manually, follow the same steps as above. \n",
    "1. Place your full-scan .mzML file in `examples\\example_data\\results\\ground_truth\\mzML`.\n",
    "2. Open a new R window and run the R script `examples\\example_data\\results\\ground_truth\\extract_peaks.R`. The script will process any files found in an `mzML` folder relative to its current location.\n",
    "3. The file `extracted_peaks_ms1.csv` will be created in the folder of step 2."
   ]
  },
  {
   "cell_type": "code",
   "execution_count": 29,
   "metadata": {},
   "outputs": [],
   "source": [
    "min_ms1_intensity = 0\n",
    "rt_range = [(min_rt, max_rt)]\n",
    "mz_range = [(0, math.inf)]\n",
    "results_dir = os.path.join(base_dir, 'results', 'ground_truth', 'mzML')   \n",
    "csv_file = os.path.join(results_dir, 'extracted_peaks_ms1.csv')\n",
    "P_peaks_df = get_df(csv_file, min_ms1_intensity, rt_range, mz_range)"
   ]
  },
  {
   "cell_type": "code",
   "execution_count": 30,
   "metadata": {},
   "outputs": [],
   "source": [
    "csv_file = os.path.join(experiment_out_dir, 'extracted_peaks_ms1.csv')\n",
    "Q_peaks_df = get_df(csv_file, min_ms1_intensity, rt_range, mz_range)"
   ]
  },
  {
   "cell_type": "code",
   "execution_count": 31,
   "metadata": {},
   "outputs": [],
   "source": [
    "fullscan_filename = 'Beer_multibeers_1_fullscan1.mzML'   \n",
    "matching_mz_tol = 10 # ppm\n",
    "matching_rt_tol = 30 # seconds"
   ]
  },
  {
   "cell_type": "code",
   "execution_count": 32,
   "metadata": {},
   "outputs": [
    {
     "name": "stdout",
     "output_type": "stream",
     "text": [
      "Loading experiment_beer1pos_N_1_rttol_15\n",
      "Matched 3678/10079 in fullscan data, 6573/10079 in fragmentation data\n",
      "beer1pos N=1 rt_tol=15 tp=1183 fp=916 fn=2495 prec=0.564 rec=0.322 f1=0.410\n",
      "Loading experiment_beer1pos_N_2_rttol_15\n",
      "Matched 3678/10079 in fullscan data, 6552/10079 in fragmentation data\n",
      "beer1pos N=2 rt_tol=15 tp=1532 fp=1155 fn=2146 prec=0.570 rec=0.417 f1=0.481\n",
      "Loading experiment_beer1pos_N_3_rttol_15\n",
      "Matched 3678/10079 in fullscan data, 6276/10079 in fragmentation data\n",
      "beer1pos N=3 rt_tol=15 tp=1674 fp=1193 fn=2004 prec=0.584 rec=0.455 f1=0.512\n",
      "Loading experiment_beer1pos_N_4_rttol_15\n",
      "Matched 3678/10079 in fullscan data, 6025/10079 in fragmentation data\n",
      "beer1pos N=4 rt_tol=15 tp=1741 fp=1195 fn=1937 prec=0.593 rec=0.473 f1=0.526\n",
      "Loading experiment_beer1pos_N_5_rttol_15\n",
      "Matched 3678/10079 in fullscan data, 5762/10079 in fragmentation data\n",
      "beer1pos N=5 rt_tol=15 tp=1817 fp=1166 fn=1861 prec=0.609 rec=0.494 f1=0.546\n",
      "Loading experiment_beer1pos_N_6_rttol_15\n",
      "Matched 3678/10079 in fullscan data, 5400/10079 in fragmentation data\n",
      "beer1pos N=6 rt_tol=15 tp=1833 fp=1152 fn=1845 prec=0.614 rec=0.498 f1=0.550\n",
      "Loading experiment_beer1pos_N_7_rttol_15\n",
      "Matched 3678/10079 in fullscan data, 5253/10079 in fragmentation data\n",
      "beer1pos N=7 rt_tol=15 tp=1823 fp=1117 fn=1855 prec=0.620 rec=0.496 f1=0.551\n",
      "Loading experiment_beer1pos_N_8_rttol_15\n",
      "Matched 3678/10079 in fullscan data, 5072/10079 in fragmentation data\n",
      "beer1pos N=8 rt_tol=15 tp=1849 fp=1093 fn=1829 prec=0.628 rec=0.503 f1=0.559\n",
      "Loading experiment_beer1pos_N_9_rttol_15\n",
      "Matched 3678/10079 in fullscan data, 4874/10079 in fragmentation data\n",
      "beer1pos N=9 rt_tol=15 tp=1850 fp=1043 fn=1828 prec=0.639 rec=0.503 f1=0.563\n",
      "Loading experiment_beer1pos_N_10_rttol_15\n",
      "Matched 3678/10079 in fullscan data, 4704/10079 in fragmentation data\n",
      "beer1pos N=10 rt_tol=15 tp=1867 fp=1001 fn=1811 prec=0.651 rec=0.508 f1=0.570\n",
      "Loading experiment_beer1pos_N_15_rttol_15\n",
      "Matched 3678/10079 in fullscan data, 2934/10079 in fragmentation data\n",
      "beer1pos N=15 rt_tol=15 tp=1519 fp=501 fn=2159 prec=0.752 rec=0.413 f1=0.533\n",
      "Loading experiment_beer1pos_N_20_rttol_15\n",
      "Matched 3678/10079 in fullscan data, 2343/10079 in fragmentation data\n",
      "beer1pos N=20 rt_tol=15 tp=1264 fp=435 fn=2414 prec=0.744 rec=0.344 f1=0.470\n",
      "Loading experiment_beer1pos_N_25_rttol_15\n",
      "Matched 3678/10079 in fullscan data, 1924/10079 in fragmentation data\n",
      "beer1pos N=25 rt_tol=15 tp=1060 fp=387 fn=2618 prec=0.733 rec=0.288 f1=0.414\n",
      "Loading experiment_beer1pos_N_30_rttol_15\n",
      "Matched 3678/10079 in fullscan data, 1488/10079 in fragmentation data\n",
      "beer1pos N=30 rt_tol=15 tp=809 fp=329 fn=2869 prec=0.711 rec=0.220 f1=0.336\n",
      "Loading experiment_beer1pos_N_35_rttol_15\n",
      "Matched 3678/10079 in fullscan data, 1160/10079 in fragmentation data\n",
      "beer1pos N=35 rt_tol=15 tp=654 fp=249 fn=3024 prec=0.724 rec=0.178 f1=0.286\n",
      "Loading experiment_beer1pos_N_40_rttol_15\n",
      "Matched 3678/10079 in fullscan data, 992/10079 in fragmentation data\n",
      "beer1pos N=40 rt_tol=15 tp=543 fp=252 fn=3135 prec=0.683 rec=0.148 f1=0.243\n",
      "Loading experiment_beer1pos_N_45_rttol_15\n",
      "Matched 3678/10079 in fullscan data, 838/10079 in fragmentation data\n",
      "beer1pos N=45 rt_tol=15 tp=445 fp=223 fn=3233 prec=0.666 rec=0.121 f1=0.205\n",
      "Loading experiment_beer1pos_N_50_rttol_15\n",
      "Matched 3678/10079 in fullscan data, 660/10079 in fragmentation data\n",
      "beer1pos N=50 rt_tol=15 tp=343 fp=184 fn=3335 prec=0.651 rec=0.093 f1=0.163\n",
      "Loading experiment_beer1pos_N_55_rttol_15\n",
      "Matched 3678/10079 in fullscan data, 628/10079 in fragmentation data\n",
      "beer1pos N=55 rt_tol=15 tp=301 fp=192 fn=3377 prec=0.611 rec=0.082 f1=0.144\n",
      "Loading experiment_beer1pos_N_60_rttol_15\n",
      "Matched 3678/10079 in fullscan data, 199/10079 in fragmentation data\n",
      "beer1pos N=60 rt_tol=15 tp=114 fp=54 fn=3564 prec=0.679 rec=0.031 f1=0.059\n",
      "Loading experiment_beer1pos_N_65_rttol_15\n",
      "Matched 3678/10079 in fullscan data, 162/10079 in fragmentation data\n",
      "beer1pos N=65 rt_tol=15 tp=72 fp=58 fn=3606 prec=0.554 rec=0.020 f1=0.038\n",
      "Loading experiment_beer1pos_N_70_rttol_15\n",
      "Matched 3678/10079 in fullscan data, 96/10079 in fragmentation data\n",
      "beer1pos N=70 rt_tol=15 tp=48 fp=38 fn=3630 prec=0.558 rec=0.013 f1=0.026\n",
      "Loading experiment_beer1pos_N_75_rttol_15\n",
      "Matched 3678/10079 in fullscan data, 104/10079 in fragmentation data\n",
      "beer1pos N=75 rt_tol=15 tp=44 fp=44 fn=3634 prec=0.500 rec=0.012 f1=0.023\n",
      "Loading experiment_beer1pos_N_80_rttol_15\n",
      "Matched 3678/10079 in fullscan data, 80/10079 in fragmentation data\n",
      "beer1pos N=80 rt_tol=15 tp=33 fp=39 fn=3645 prec=0.458 rec=0.009 f1=0.018\n",
      "Loading experiment_beer1pos_N_85_rttol_15\n",
      "Matched 3678/10079 in fullscan data, 92/10079 in fragmentation data\n",
      "beer1pos N=85 rt_tol=15 tp=32 fp=47 fn=3646 prec=0.405 rec=0.009 f1=0.017\n",
      "Loading experiment_beer1pos_N_90_rttol_15\n",
      "Matched 3678/10079 in fullscan data, 92/10079 in fragmentation data\n",
      "beer1pos N=90 rt_tol=15 tp=36 fp=45 fn=3642 prec=0.444 rec=0.010 f1=0.019\n",
      "Loading experiment_beer1pos_N_95_rttol_15\n",
      "Matched 3678/10079 in fullscan data, 44/10079 in fragmentation data\n",
      "beer1pos N=95 rt_tol=15 tp=20 fp=17 fn=3658 prec=0.541 rec=0.005 f1=0.011\n",
      "Loading experiment_beer1pos_N_100_rttol_15\n",
      "Matched 3678/10079 in fullscan data, 76/10079 in fragmentation data\n",
      "beer1pos N=100 rt_tol=15 tp=28 fp=37 fn=3650 prec=0.431 rec=0.008 f1=0.015\n"
     ]
    }
   ],
   "source": [
    "results = []\n",
    "for N in Ns:\n",
    "    for rt_tol in rt_tols:\n",
    "\n",
    "        # load chemicals and check for matching\n",
    "        chemicals = load_obj(os.path.join(experiment_out_dir, 'dataset.p'))           \n",
    "        fragfile_filename = 'experiment_%s_N_%d_rttol_%d.mzML' % (experiment_name, N, rt_tol) \n",
    "\n",
    "        # load controller and compute performance\n",
    "        controller = load_controller(experiment_out_dir, experiment_name, N, rt_tol)\n",
    "        if controller is not None:\n",
    "            tp, fp, fn, prec, rec, f1 = compute_performance_scenario_2(controller, chemicals, min_ms1_intensity,\n",
    "                                                                       fullscan_filename, fragfile_filename,\n",
    "                                                                       P_peaks_df, Q_peaks_df, matching_mz_tol, matching_rt_tol)\n",
    "            print('%s N=%d rt_tol=%d tp=%d fp=%d fn=%d prec=%.3f rec=%.3f f1=%.3f' % (experiment_name, \n",
    "                N, rt_tol, tp, fp, fn, prec, rec, f1))\n",
    "            res = (experiment_name, N, rt_tol, tp, fp, fn, prec, rec, f1)    \n",
    "            results.append(res)  "
   ]
  },
  {
   "cell_type": "code",
   "execution_count": 33,
   "metadata": {},
   "outputs": [],
   "source": [
    "result_df = pd.DataFrame(results, columns=['experiment', 'N', 'rt_tol', 'TP', 'FP', 'FN', 'Prec', 'Rec', 'F1'])"
   ]
  },
  {
   "cell_type": "markdown",
   "metadata": {},
   "source": [
    "### Plot precision, recall, f1"
   ]
  },
  {
   "cell_type": "code",
   "execution_count": 34,
   "metadata": {},
   "outputs": [
    {
     "data": {
      "image/png": "[encoded data removed]",
      "text/plain": [
       "<Figure size 864x432 with 1 Axes>"
      ]
     },
     "metadata": {
      "needs_background": "light"
     },
     "output_type": "display_data"
    }
   ],
   "source": [
    "plt.figure(figsize=(12, 6))\n",
    "ax = sns.lineplot(x='N', y='Prec', hue='experiment', legend='brief', data=result_df)\n",
    "plt.title('Top-N Precision')\n",
    "for l in ax.lines:\n",
    "    plt.setp(l, linewidth=5)\n",
    "plt.ylabel('Precision')\n",
    "plt.xlabel(r'Top-$N$')\n",
    "plt.legend(prop={'size': 20})\n",
    "plt.tight_layout()\n",
    "\n",
    "fig_out = os.path.join(experiment_out_dir, 'topN_precision.png')\n",
    "plt.savefig(fig_out, dpi=300)"
   ]
  },
  {
   "cell_type": "code",
   "execution_count": 35,
   "metadata": {},
   "outputs": [
    {
     "data": {
      "image/png": "[encoded data removed]",
      "text/plain": [
       "<Figure size 864x432 with 1 Axes>"
      ]
     },
     "metadata": {
      "needs_background": "light"
     },
     "output_type": "display_data"
    }
   ],
   "source": [
    "plt.figure(figsize=(12, 6))\n",
    "ax = sns.lineplot(x='N', y='Rec', hue='experiment', legend='brief', data=result_df)\n",
    "plt.title('Top-N Recall')\n",
    "for l in ax.lines:\n",
    "    plt.setp(l, linewidth=5)\n",
    "plt.ylabel('Recall')\n",
    "plt.xlabel(r'Top-$N$')\n",
    "plt.legend(prop={'size': 20})\n",
    "plt.tight_layout()\n",
    "\n",
    "fig_out = os.path.join(experiment_out_dir, 'topN_recall.png')\n",
    "plt.savefig(fig_out, dpi=300)"
   ]
  },
  {
   "cell_type": "code",
   "execution_count": 36,
   "metadata": {},
   "outputs": [
    {
     "data": {
      "image/png": "[encoded data removed]",
      "text/plain": [
       "<Figure size 864x432 with 1 Axes>"
      ]
     },
     "metadata": {
      "needs_background": "light"
     },
     "output_type": "display_data"
    }
   ],
   "source": [
    "plt.figure(figsize=(12, 6))\n",
    "ax = sns.lineplot(x='N', y='F1', hue='experiment', legend='brief', data=result_df)\n",
    "plt.title('Top-N F1')\n",
    "for l in ax.lines:\n",
    "    plt.setp(l, linewidth=5)\n",
    "plt.ylabel(r'$F_{1}\\;score$')\n",
    "plt.xlabel(r'Top-$N$')\n",
    "plt.legend(prop={'size': 20})\n",
    "plt.tight_layout()\n",
    "\n",
    "fig_out = os.path.join(experiment_out_dir, 'topN_f1.png')\n",
    "plt.savefig(fig_out, dpi=300)"
   ]
  }
 ],
 "metadata": {
  "kernelspec": {
   "display_name": "Python 3",
   "language": "python",
   "name": "python3"
  },
  "language_info": {
   "codemirror_mode": {
    "name": "ipython",
    "version": 3
   },
   "file_extension": ".py",
   "mimetype": "text/x-python",
   "name": "python",
   "nbconvert_exporter": "python",
   "pygments_lexer": "ipython3",
   "version": "3.7.3"
  }
 },
 "nbformat": 4,
 "nbformat_minor": 2
}
