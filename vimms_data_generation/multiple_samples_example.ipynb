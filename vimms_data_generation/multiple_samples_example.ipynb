{
 "cells": [
  {
   "cell_type": "code",
   "execution_count": 176,
   "metadata": {},
   "outputs": [],
   "source": [
    "%matplotlib inline"
   ]
  },
  {
   "cell_type": "code",
   "execution_count": 177,
   "metadata": {},
   "outputs": [
    {
     "name": "stdout",
     "output_type": "stream",
     "text": [
      "The autoreload extension is already loaded. To reload it, use:\n",
      "  %reload_ext autoreload\n"
     ]
    }
   ],
   "source": [
    "%load_ext autoreload\n",
    "%autoreload 2"
   ]
  },
  {
   "cell_type": "code",
   "execution_count": 178,
   "metadata": {},
   "outputs": [],
   "source": [
    "import numpy as np\n",
    "import pandas as pd\n",
    "import sys\n",
    "import scipy.stats\n",
    "import pylab as plt\n",
    "from IPython import display\n",
    "import pylab as plt\n",
    "import glob\n",
    "from collections import defaultdict"
   ]
  },
  {
   "cell_type": "code",
   "execution_count": 179,
   "metadata": {},
   "outputs": [],
   "source": [
    "sys.path.append('..')"
   ]
  },
  {
   "cell_type": "code",
   "execution_count": 180,
   "metadata": {},
   "outputs": [],
   "source": [
    "from vimms.Chemicals import *\n",
    "from vimms.Chromatograms import *\n",
    "from vimms.MassSpec import *\n",
    "from vimms.Controller import *\n",
    "from vimms.Common import *\n",
    "from vimms.DataGenerator import *\n",
    "from vimms.DsDA import *"
   ]
  },
  {
   "cell_type": "code",
   "execution_count": 181,
   "metadata": {},
   "outputs": [],
   "source": [
    " set_log_level_warning()\n",
    "# set_log_level_info()\n",
    "# set_log_level_debug()"
   ]
  },
  {
   "cell_type": "code",
   "execution_count": 182,
   "metadata": {},
   "outputs": [],
   "source": [
    "# base_dir = '..\\\\data'\n",
    "# base_dir = 'C:\\\\Users\\\\joewa\\\\University of Glasgow\\\\Vinny Davies - CLDS Metabolomics Project\\\\Trained Models'\n",
    "base_dir = '/Users/simon/University of Glasgow/Vinny Davies - CLDS Metabolomics Project/Trained Models'"
   ]
  },
  {
   "cell_type": "code",
   "execution_count": 183,
   "metadata": {},
   "outputs": [],
   "source": [
    "ps = load_obj(os.path.join(base_dir, 'peak_sampler_mz_rt_int_19_beers_fullscan.p'))"
   ]
  },
  {
   "cell_type": "code",
   "execution_count": 184,
   "metadata": {},
   "outputs": [],
   "source": [
    "hmdb = load_obj(os.path.join(base_dir, 'hmdb_compounds.p'))"
   ]
  },
  {
   "cell_type": "code",
   "execution_count": 185,
   "metadata": {},
   "outputs": [],
   "source": [
    "out_dir = '/Users/simon/vimms_data'"
   ]
  },
  {
   "cell_type": "markdown",
   "metadata": {},
   "source": [
    "# Create Initial Chemical"
   ]
  },
  {
   "cell_type": "code",
   "execution_count": 186,
   "metadata": {},
   "outputs": [
    {
     "name": "stdout",
     "output_type": "stream",
     "text": [
      "Saving <class 'list'> to /Users/simon/vimms_data/BaseDataset/dataset.p\n"
     ]
    }
   ],
   "source": [
    "ROI_Sources = [\"/Users/simon/vimms_data/beer_t10_simulator_files\"]\n",
    "min_ms1_intensity = 1.75E5\n",
    "rt_range = [(400, 500)]\n",
    "mz_range = [(200, 400)]\n",
    "n_peaks = 50\n",
    "roi_rt_range = [20, 40]\n",
    "chems = ChemicalCreator(ps, ROI_Sources, hmdb)\n",
    "dataset = chems.sample(mz_range, rt_range, min_ms1_intensity, n_peaks, 1, use_database=True, \n",
    "                       fixed_mz=False, roi_rt_range=roi_rt_range)\n",
    "save_obj(dataset, os.path.join(out_dir, 'BaseDataset/dataset.p'))"
   ]
  },
  {
   "cell_type": "code",
   "execution_count": 187,
   "metadata": {},
   "outputs": [
    {
     "name": "stdout",
     "output_type": "stream",
     "text": [
      "23.639999999999986\n",
      "30.91300000000001\n",
      "34.07000000000005\n",
      "33.34400000000005\n",
      "27.58499999999998\n",
      "30.91192\n",
      "24.62999999999988\n",
      "36.65499999999997\n",
      "36.42000000000007\n",
      "30.340000000000146\n",
      "23.268\n",
      "21.972999999999956\n",
      "36.011000000000024\n",
      "20.067999999999984\n",
      "25.733999999999924\n",
      "20.24000000000001\n",
      "24.460000000000036\n",
      "23.871999999999957\n",
      "24.733999999999924\n",
      "25.93599999999998\n",
      "32.3900000000001\n",
      "22.5\n",
      "29.205000000000013\n",
      "22.774999999999977\n",
      "28.649\n",
      "30.10300000000001\n",
      "31.930000000000064\n",
      "29.180999999999926\n",
      "34.6412\n",
      "26.58100000000001\n",
      "27.55400000000003\n",
      "29.246999999999957\n",
      "23.357999999999947\n",
      "21.681999999999988\n",
      "21.232000000000085\n",
      "20.4762\n",
      "37.3599999999999\n",
      "24.817999999999984\n",
      "23.531000000000006\n",
      "31.873000000000047\n",
      "24.039000000000044\n",
      "27.186000000000035\n",
      "28.537999999999897\n",
      "36.95600000000002\n",
      "38.460000000000036\n",
      "20.876000000000005\n",
      "38.54899999999998\n",
      "37.150000000000006\n",
      "26.47999999999999\n",
      "20.381999999999948\n"
     ]
    }
   ],
   "source": [
    "for chem in dataset:\n",
    "    print(np.abs(chem.chromatogram.min_rt - chem.chromatogram.max_rt))"
   ]
  },
  {
   "cell_type": "markdown",
   "metadata": {},
   "source": [
    "# Create Multiple Samples"
   ]
  },
  {
   "cell_type": "code",
   "execution_count": 198,
   "metadata": {},
   "outputs": [],
   "source": [
    "n_samples = [50,50] # number of files per class\n",
    "classes = [\"class%d\" % i for i in range(len(n_samples))] # creates default list of classes\n",
    "intensity_noise_sd = [1000] # noise on max intensity"
   ]
  },
  {
   "cell_type": "code",
   "execution_count": 199,
   "metadata": {},
   "outputs": [
    {
     "data": {
      "text/plain": [
       "['class0', 'class1']"
      ]
     },
     "execution_count": 199,
     "metadata": {},
     "output_type": "execute_result"
    }
   ],
   "source": [
    "classes"
   ]
  },
  {
   "cell_type": "markdown",
   "metadata": {},
   "source": [
    "Add intensity changes between different classes"
   ]
  },
  {
   "cell_type": "code",
   "execution_count": 200,
   "metadata": {},
   "outputs": [],
   "source": [
    "change_probabilities = [0 for i in range(len(n_samples))] # probability of intensity changes between different classes\n",
    "change_differences_means = [0 for i in range(len(n_samples))] # mean of those intensity changes\n",
    "change_differences_sds = [0 for i in range(len(n_samples))] # SD of those intensity changes"
   ]
  },
  {
   "cell_type": "markdown",
   "metadata": {},
   "source": [
    "Add experimental variables (examples in comments)"
   ]
  },
  {
   "cell_type": "code",
   "execution_count": 201,
   "metadata": {},
   "outputs": [],
   "source": [
    "experimental_classes = None # [[\"male\",\"female\"],[\"Positive\",\"Negative\",\"Unknown\"]]\n",
    "experimental_probabilitities = None # [[0.5,0.5],[0.33,0.33,0.34]]\n",
    "experimental_sds = None # [[250],[250]]"
   ]
  },
  {
   "cell_type": "markdown",
   "metadata": {},
   "source": [
    "Dropout chemicals from in different classes"
   ]
  },
  {
   "cell_type": "code",
   "execution_count": 202,
   "metadata": {},
   "outputs": [],
   "source": [
    "dropout_probability = 0.2\n",
    "dropout_probabilities = [dropout_probability for i in range(len(n_samples))]\n",
    "# dropout_probabilities = None\n",
    "# dropout_numbers = 2 # number of chemicals dropped out in each class\n",
    "dropout_numbers = None"
   ]
  },
  {
   "cell_type": "markdown",
   "metadata": {},
   "source": [
    "Set save location"
   ]
  },
  {
   "cell_type": "code",
   "execution_count": 203,
   "metadata": {},
   "outputs": [],
   "source": [
    "save_location = os.path.join(out_dir, 'ChemicalFiles')"
   ]
  },
  {
   "cell_type": "code",
   "execution_count": 204,
   "metadata": {
    "scrolled": true
   },
   "outputs": [
    {
     "name": "stdout",
     "output_type": "stream",
     "text": [
      "26\n",
      "Saving <class 'list'> to /Users/simon/vimms_data/ChemicalFiles/sample_0.p\n",
      "21\n",
      "Saving <class 'list'> to /Users/simon/vimms_data/ChemicalFiles/sample_1.p\n",
      "28\n",
      "Saving <class 'list'> to /Users/simon/vimms_data/ChemicalFiles/sample_2.p\n",
      "21\n",
      "Saving <class 'list'> to /Users/simon/vimms_data/ChemicalFiles/sample_3.p\n",
      "25\n",
      "Saving <class 'list'> to /Users/simon/vimms_data/ChemicalFiles/sample_4.p\n",
      "25\n",
      "Saving <class 'list'> to /Users/simon/vimms_data/ChemicalFiles/sample_5.p\n",
      "23\n",
      "Saving <class 'list'> to /Users/simon/vimms_data/ChemicalFiles/sample_6.p\n",
      "30\n",
      "Saving <class 'list'> to /Users/simon/vimms_data/ChemicalFiles/sample_7.p\n",
      "24\n",
      "Saving <class 'list'> to /Users/simon/vimms_data/ChemicalFiles/sample_8.p\n",
      "26\n",
      "Saving <class 'list'> to /Users/simon/vimms_data/ChemicalFiles/sample_9.p\n",
      "21\n",
      "Saving <class 'list'> to /Users/simon/vimms_data/ChemicalFiles/sample_10.p\n",
      "22\n",
      "Saving <class 'list'> to /Users/simon/vimms_data/ChemicalFiles/sample_11.p\n",
      "27\n",
      "Saving <class 'list'> to /Users/simon/vimms_data/ChemicalFiles/sample_12.p\n",
      "20\n",
      "Saving <class 'list'> to /Users/simon/vimms_data/ChemicalFiles/sample_13.p\n",
      "26\n",
      "Saving <class 'list'> to /Users/simon/vimms_data/ChemicalFiles/sample_14.p\n",
      "18\n",
      "Saving <class 'list'> to /Users/simon/vimms_data/ChemicalFiles/sample_15.p\n",
      "26\n",
      "Saving <class 'list'> to /Users/simon/vimms_data/ChemicalFiles/sample_16.p\n",
      "24\n",
      "Saving <class 'list'> to /Users/simon/vimms_data/ChemicalFiles/sample_17.p\n",
      "25\n",
      "Saving <class 'list'> to /Users/simon/vimms_data/ChemicalFiles/sample_18.p\n",
      "22\n",
      "Saving <class 'list'> to /Users/simon/vimms_data/ChemicalFiles/sample_19.p\n",
      "27\n",
      "Saving <class 'list'> to /Users/simon/vimms_data/ChemicalFiles/sample_20.p\n",
      "28\n",
      "Saving <class 'list'> to /Users/simon/vimms_data/ChemicalFiles/sample_21.p\n",
      "25\n",
      "Saving <class 'list'> to /Users/simon/vimms_data/ChemicalFiles/sample_22.p\n",
      "22\n",
      "Saving <class 'list'> to /Users/simon/vimms_data/ChemicalFiles/sample_23.p\n",
      "24\n",
      "Saving <class 'list'> to /Users/simon/vimms_data/ChemicalFiles/sample_24.p\n",
      "25\n",
      "Saving <class 'list'> to /Users/simon/vimms_data/ChemicalFiles/sample_25.p\n",
      "24\n",
      "Saving <class 'list'> to /Users/simon/vimms_data/ChemicalFiles/sample_26.p\n",
      "28\n",
      "Saving <class 'list'> to /Users/simon/vimms_data/ChemicalFiles/sample_27.p\n",
      "23\n",
      "Saving <class 'list'> to /Users/simon/vimms_data/ChemicalFiles/sample_28.p\n",
      "22\n",
      "Saving <class 'list'> to /Users/simon/vimms_data/ChemicalFiles/sample_29.p\n",
      "24\n",
      "Saving <class 'list'> to /Users/simon/vimms_data/ChemicalFiles/sample_30.p\n",
      "25\n",
      "Saving <class 'list'> to /Users/simon/vimms_data/ChemicalFiles/sample_31.p\n",
      "22\n",
      "Saving <class 'list'> to /Users/simon/vimms_data/ChemicalFiles/sample_32.p\n",
      "23\n",
      "Saving <class 'list'> to /Users/simon/vimms_data/ChemicalFiles/sample_33.p\n",
      "24\n",
      "Saving <class 'list'> to /Users/simon/vimms_data/ChemicalFiles/sample_34.p\n",
      "25\n",
      "Saving <class 'list'> to /Users/simon/vimms_data/ChemicalFiles/sample_35.p\n",
      "23\n",
      "Saving <class 'list'> to /Users/simon/vimms_data/ChemicalFiles/sample_36.p\n",
      "27\n",
      "Saving <class 'list'> to /Users/simon/vimms_data/ChemicalFiles/sample_37.p\n",
      "25\n",
      "Saving <class 'list'> to /Users/simon/vimms_data/ChemicalFiles/sample_38.p\n",
      "22\n",
      "Saving <class 'list'> to /Users/simon/vimms_data/ChemicalFiles/sample_39.p\n",
      "27\n",
      "Saving <class 'list'> to /Users/simon/vimms_data/ChemicalFiles/sample_40.p\n",
      "27\n",
      "Saving <class 'list'> to /Users/simon/vimms_data/ChemicalFiles/sample_41.p\n",
      "27\n",
      "Saving <class 'list'> to /Users/simon/vimms_data/ChemicalFiles/sample_42.p\n",
      "26\n",
      "Saving <class 'list'> to /Users/simon/vimms_data/ChemicalFiles/sample_43.p\n",
      "24\n",
      "Saving <class 'list'> to /Users/simon/vimms_data/ChemicalFiles/sample_44.p\n",
      "25\n",
      "Saving <class 'list'> to /Users/simon/vimms_data/ChemicalFiles/sample_45.p\n",
      "28\n",
      "Saving <class 'list'> to /Users/simon/vimms_data/ChemicalFiles/sample_46.p\n",
      "26\n",
      "Saving <class 'list'> to /Users/simon/vimms_data/ChemicalFiles/sample_47.p\n",
      "21\n",
      "Saving <class 'list'> to /Users/simon/vimms_data/ChemicalFiles/sample_48.p\n",
      "25\n",
      "Saving <class 'list'> to /Users/simon/vimms_data/ChemicalFiles/sample_49.p\n",
      "28\n",
      "Saving <class 'list'> to /Users/simon/vimms_data/ChemicalFiles/sample_50.p\n",
      "20\n",
      "Saving <class 'list'> to /Users/simon/vimms_data/ChemicalFiles/sample_51.p\n",
      "27\n",
      "Saving <class 'list'> to /Users/simon/vimms_data/ChemicalFiles/sample_52.p\n",
      "23\n",
      "Saving <class 'list'> to /Users/simon/vimms_data/ChemicalFiles/sample_53.p\n",
      "29\n",
      "Saving <class 'list'> to /Users/simon/vimms_data/ChemicalFiles/sample_54.p\n",
      "24\n",
      "Saving <class 'list'> to /Users/simon/vimms_data/ChemicalFiles/sample_55.p\n",
      "32\n",
      "Saving <class 'list'> to /Users/simon/vimms_data/ChemicalFiles/sample_56.p\n",
      "26\n",
      "Saving <class 'list'> to /Users/simon/vimms_data/ChemicalFiles/sample_57.p\n",
      "29\n",
      "Saving <class 'list'> to /Users/simon/vimms_data/ChemicalFiles/sample_58.p\n",
      "27\n",
      "Saving <class 'list'> to /Users/simon/vimms_data/ChemicalFiles/sample_59.p\n",
      "29\n",
      "Saving <class 'list'> to /Users/simon/vimms_data/ChemicalFiles/sample_60.p\n",
      "30\n",
      "Saving <class 'list'> to /Users/simon/vimms_data/ChemicalFiles/sample_61.p\n",
      "25\n",
      "Saving <class 'list'> to /Users/simon/vimms_data/ChemicalFiles/sample_62.p\n",
      "31\n",
      "Saving <class 'list'> to /Users/simon/vimms_data/ChemicalFiles/sample_63.p\n",
      "24\n",
      "Saving <class 'list'> to /Users/simon/vimms_data/ChemicalFiles/sample_64.p\n",
      "25\n",
      "Saving <class 'list'> to /Users/simon/vimms_data/ChemicalFiles/sample_65.p\n",
      "27\n",
      "Saving <class 'list'> to /Users/simon/vimms_data/ChemicalFiles/sample_66.p\n",
      "28\n",
      "Saving <class 'list'> to /Users/simon/vimms_data/ChemicalFiles/sample_67.p\n",
      "22\n",
      "Saving <class 'list'> to /Users/simon/vimms_data/ChemicalFiles/sample_68.p\n",
      "28\n",
      "Saving <class 'list'> to /Users/simon/vimms_data/ChemicalFiles/sample_69.p\n",
      "26\n",
      "Saving <class 'list'> to /Users/simon/vimms_data/ChemicalFiles/sample_70.p\n",
      "26\n",
      "Saving <class 'list'> to /Users/simon/vimms_data/ChemicalFiles/sample_71.p\n",
      "24\n",
      "Saving <class 'list'> to /Users/simon/vimms_data/ChemicalFiles/sample_72.p\n",
      "26\n",
      "Saving <class 'list'> to /Users/simon/vimms_data/ChemicalFiles/sample_73.p\n",
      "21\n",
      "Saving <class 'list'> to /Users/simon/vimms_data/ChemicalFiles/sample_74.p\n",
      "30\n",
      "Saving <class 'list'> to /Users/simon/vimms_data/ChemicalFiles/sample_75.p\n",
      "25\n",
      "Saving <class 'list'> to /Users/simon/vimms_data/ChemicalFiles/sample_76.p\n",
      "26\n",
      "Saving <class 'list'> to /Users/simon/vimms_data/ChemicalFiles/sample_77.p\n",
      "29\n",
      "Saving <class 'list'> to /Users/simon/vimms_data/ChemicalFiles/sample_78.p\n",
      "25\n",
      "Saving <class 'list'> to /Users/simon/vimms_data/ChemicalFiles/sample_79.p\n",
      "26\n",
      "Saving <class 'list'> to /Users/simon/vimms_data/ChemicalFiles/sample_80.p\n",
      "28\n",
      "Saving <class 'list'> to /Users/simon/vimms_data/ChemicalFiles/sample_81.p\n",
      "25\n",
      "Saving <class 'list'> to /Users/simon/vimms_data/ChemicalFiles/sample_82.p\n",
      "27\n",
      "Saving <class 'list'> to /Users/simon/vimms_data/ChemicalFiles/sample_83.p\n",
      "32\n",
      "Saving <class 'list'> to /Users/simon/vimms_data/ChemicalFiles/sample_84.p\n",
      "23\n",
      "Saving <class 'list'> to /Users/simon/vimms_data/ChemicalFiles/sample_85.p\n",
      "26\n",
      "Saving <class 'list'> to /Users/simon/vimms_data/ChemicalFiles/sample_86.p\n",
      "26\n",
      "Saving <class 'list'> to /Users/simon/vimms_data/ChemicalFiles/sample_87.p\n",
      "28\n",
      "Saving <class 'list'> to /Users/simon/vimms_data/ChemicalFiles/sample_88.p\n",
      "22\n",
      "Saving <class 'list'> to /Users/simon/vimms_data/ChemicalFiles/sample_89.p\n",
      "31\n",
      "Saving <class 'list'> to /Users/simon/vimms_data/ChemicalFiles/sample_90.p\n",
      "28\n",
      "Saving <class 'list'> to /Users/simon/vimms_data/ChemicalFiles/sample_91.p\n",
      "26\n",
      "Saving <class 'list'> to /Users/simon/vimms_data/ChemicalFiles/sample_92.p\n",
      "22\n",
      "Saving <class 'list'> to /Users/simon/vimms_data/ChemicalFiles/sample_93.p\n",
      "31\n",
      "Saving <class 'list'> to /Users/simon/vimms_data/ChemicalFiles/sample_94.p\n",
      "29\n",
      "Saving <class 'list'> to /Users/simon/vimms_data/ChemicalFiles/sample_95.p\n",
      "28\n",
      "Saving <class 'list'> to /Users/simon/vimms_data/ChemicalFiles/sample_96.p\n",
      "29\n",
      "Saving <class 'list'> to /Users/simon/vimms_data/ChemicalFiles/sample_97.p\n",
      "27\n",
      "Saving <class 'list'> to /Users/simon/vimms_data/ChemicalFiles/sample_98.p\n",
      "30\n",
      "Saving <class 'list'> to /Users/simon/vimms_data/ChemicalFiles/sample_99.p\n"
     ]
    }
   ],
   "source": [
    "multiple_samples = MultiSampleCreator(dataset, n_samples, classes, intensity_noise_sd, \n",
    "                                      change_probabilities, change_differences_means, change_differences_sds, dropout_probabilities, dropout_numbers,\n",
    "                                     experimental_classes, experimental_probabilitities, experimental_sds, save_location=save_location)"
   ]
  },
  {
   "cell_type": "code",
   "execution_count": 205,
   "metadata": {},
   "outputs": [
    {
     "name": "stdout",
     "output_type": "stream",
     "text": [
      "{'C11H11N3O2S', 'C13H18O2', 'C18H27NO3', 'C14H11Cl2NO4', 'C5H6Cl6N2O3', 'C4H7Cl2O4P', 'C18H37NO3', 'C10H12ClN3O3S', 'C15H10O7'}\n"
     ]
    },
    {
     "data": {
      "text/plain": [
       "100"
      ]
     },
     "execution_count": 205,
     "metadata": {},
     "output_type": "execute_result"
    }
   ],
   "source": [
    "# Check the number of identical formulas in two objects of the same class\n",
    "formulas0 = set([str(a.formula) for a in multiple_samples.samples[0]])\n",
    "formulas1 = set([str(a.formula) for a in multiple_samples.samples[1]])\n",
    "print(formulas0-formulas1)\n",
    "\n",
    "total_samples = np.sum(multiple_samples.n_samples)\n",
    "total_samples"
   ]
  },
  {
   "cell_type": "code",
   "execution_count": 206,
   "metadata": {},
   "outputs": [
    {
     "name": "stdout",
     "output_type": "stream",
     "text": [
      "Saving <class 'list'> to /Users/simon/vimms_data/MissingChemicals/missing_chemicals.p\n"
     ]
    },
    {
     "data": {
      "text/plain": [
       "[[KnownChemical - 'C15H16Cl3N3O2' rt=409.99 max_intensity=1725954.34,\n",
       "  KnownChemical - 'C16H28O' rt=431.85 max_intensity=1059507.71,\n",
       "  KnownChemical - 'C19H18ClN5' rt=423.53 max_intensity=329447.21,\n",
       "  KnownChemical - 'C17H23NO2' rt=415.68 max_intensity=251532.13,\n",
       "  KnownChemical - 'C11H13N3O3S' rt=421.16 max_intensity=1558628.97,\n",
       "  KnownChemical - 'C11H28N4' rt=416.56 max_intensity=2005289.30,\n",
       "  KnownChemical - 'C13H9NO2S' rt=401.56 max_intensity=239654.60,\n",
       "  KnownChemical - 'C13H9NO2S' rt=428.33 max_intensity=13229609.72,\n",
       "  KnownChemical - 'C10H16N2O4' rt=414.90 max_intensity=49733322.17,\n",
       "  KnownChemical - 'C8H11NO5S' rt=412.33 max_intensity=342886.18,\n",
       "  KnownChemical - 'C13H11N3O5S2' rt=450.38 max_intensity=267161.99,\n",
       "  KnownChemical - 'C7H9NO4S' rt=428.11 max_intensity=246202.61,\n",
       "  KnownChemical - 'C21H29NO' rt=425.12 max_intensity=245703.10,\n",
       "  KnownChemical - 'C8H12O9' rt=459.26 max_intensity=1531653.32,\n",
       "  KnownChemical - 'C16H34' rt=427.40 max_intensity=76844746.48],\n",
       " [KnownChemical - 'C15H16Cl3N3O2' rt=409.99 max_intensity=1725954.34,\n",
       "  KnownChemical - 'C11H11N3O2S' rt=424.50 max_intensity=246727.63,\n",
       "  KnownChemical - 'C10H12ClN3O3S' rt=476.40 max_intensity=1936392.25,\n",
       "  KnownChemical - 'C9H9Cl2N3O' rt=422.93 max_intensity=547923.51,\n",
       "  KnownChemical - 'C14H30O3' rt=445.79 max_intensity=1703073.85,\n",
       "  KnownChemical - 'C5H6Cl6N2O3' rt=425.01 max_intensity=1033219.33,\n",
       "  KnownChemical - 'C16H26' rt=461.36 max_intensity=6975922.33,\n",
       "  KnownChemical - 'C13H9NO2S' rt=428.33 max_intensity=13229609.72,\n",
       "  KnownChemical - 'C13H11N3O5S2' rt=450.38 max_intensity=267161.99,\n",
       "  KnownChemical - 'C21H29NO' rt=425.12 max_intensity=245703.10,\n",
       "  KnownChemical - 'C16H26' rt=427.32 max_intensity=674172.61]]"
      ]
     },
     "execution_count": 206,
     "metadata": {},
     "output_type": "execute_result"
    }
   ],
   "source": [
    "save_obj(multiple_samples.missing_chemicals, os.path.join(out_dir, 'MissingChemicals','missing_chemicals.p'))\n",
    "multiple_samples.missing_chemicals"
   ]
  },
  {
   "cell_type": "markdown",
   "metadata": {},
   "source": [
    "Run MS1 controller and save out .mzML files"
   ]
  },
  {
   "cell_type": "code",
   "execution_count": 207,
   "metadata": {},
   "outputs": [
    {
     "name": "stderr",
     "output_type": "stream",
     "text": [
      "101.0766999999995it [00:00, 585.06it/s]                         \n",
      "101.0076000000006it [00:00, 756.03it/s]                         \n",
      "100.65469999999988it [00:00, 661.05it/s]                        \n",
      "100.08256000000006it [00:00, 764.81it/s]                        \n",
      "100.82959000000005it [00:00, 658.77it/s]                         \n",
      "100.91009999999983it [00:00, 664.08it/s]                        \n",
      "100.93500000000017it [00:00, 662.31it/s]                        \n",
      "101.21058000000016it [00:00, 586.26it/s]                        \n",
      "100.69709999999975it [00:00, 725.90it/s]                       \n",
      "101.0682000000005it [00:00, 662.61it/s]                         \n",
      "100.94901999999905it [00:00, 725.71it/s]                        \n",
      "100.52189999999928it [00:00, 752.98it/s]                        \n",
      "101.13919999999996it [00:00, 660.83it/s]                        \n",
      "100.76020000000017it [00:00, 772.24it/s]                       \n",
      "100.29280000000011it [00:00, 671.33it/s]                        \n",
      "100.12770000000052it [00:00, 850.93it/s]                        \n",
      "100.89423999999963it [00:00, 659.05it/s]                        \n",
      "100.00509999999986it [00:00, 663.76it/s]                        \n",
      "100.21280000000041it [00:00, 647.97it/s]                         \n",
      "100.29063000000008it [00:00, 735.42it/s]                        \n",
      "101.06017999999972it [00:00, 634.71it/s]                        \n",
      "100.28120000000047it [00:00, 634.15it/s]                         \n",
      "100.2417999999991it [00:00, 699.44it/s]                          \n",
      "100.6541000000002it [00:00, 749.57it/s]                         \n",
      "100.80729999999954it [00:00, 730.74it/s]                        \n",
      "100.61380000000008it [00:00, 605.76it/s]                        \n",
      "100.43969999999973it [00:00, 671.23it/s]                         \n",
      "100.09509999999972it [00:00, 528.67it/s]             \n",
      "100.90539999999976it [00:00, 704.68it/s]                         \n",
      "101.12946999999963it [00:00, 744.37it/s]                        \n",
      "100.98500000000013it [00:00, 727.62it/s]                        \n",
      "100.83409999999947it [00:00, 680.47it/s]                        \n",
      "100.81709999999998it [00:00, 744.30it/s]                        \n",
      "100.31147999999962it [00:00, 711.94it/s]                        \n",
      "100.18090000000007it [00:00, 710.33it/s]                        \n",
      "100.83951000000047it [00:00, 673.48it/s]                       \n",
      "100.25170999999955it [00:00, 711.93it/s]                        \n",
      "100.84059999999982it [00:00, 596.15it/s]                        \n",
      "101.03260000000074it [00:00, 730.29it/s]                        \n",
      "100.18609999999956it [00:00, 740.38it/s]                        \n",
      "101.0018999999997it [00:00, 680.59it/s]                         \n",
      "100.86064999999934it [00:00, 661.15it/s]                        \n",
      "100.57273000000066it [00:00, 637.58it/s]                        \n",
      "100.27547999999979it [00:00, 665.58it/s]                        \n",
      "100.98659999999938it [00:00, 684.00it/s]                       \n",
      "100.82990000000001it [00:00, 692.23it/s]                        \n",
      "101.16020000000037it [00:00, 653.11it/s]                        \n",
      "101.03670000000022it [00:00, 689.48it/s]                        \n",
      "100.5354999999995it [00:00, 744.45it/s]                         \n",
      "101.03590000000048it [00:00, 678.34it/s]                         \n",
      "100.88130000000035it [00:00, 668.63it/s]                        \n",
      "101.37419999999992it [00:00, 769.19it/s]                        \n",
      "100.01150000000007it [00:00, 625.90it/s]                       \n",
      "100.1823000000013it [00:00, 685.04it/s]                         \n",
      "100.93100000000044it [00:00, 635.23it/s]                         \n",
      "100.32763000000011it [00:00, 564.93it/s]                        \n",
      "100.86940000000044it [00:00, 604.78it/s]                        \n",
      "101.10580000000095it [00:00, 669.84it/s]                         \n",
      "100.90390000000008it [00:00, 633.06it/s]                         \n",
      "101.33621000000164it [00:00, 671.74it/s]                         \n",
      "100.46230000000043it [00:00, 648.29it/s]                        \n",
      "100.00379999999984it [00:00, 629.58it/s]                        \n",
      "100.70320000000038it [00:00, 712.30it/s]                         \n",
      "100.32900000000166it [00:00, 595.87it/s]                        \n",
      "100.39048999999966it [00:00, 709.57it/s]                        \n",
      "100.27794999999986it [00:00, 683.80it/s]                         \n",
      "100.46116300000017it [00:00, 661.67it/s]                       \n",
      "101.46010000000024it [00:00, 640.70it/s]                        \n",
      "100.08272000000034it [00:00, 757.71it/s]                         \n",
      "100.0920299999998it [00:00, 511.43it/s]                         \n",
      "100.18530000000004it [00:00, 423.14it/s]                        \n",
      "100.42677000000026it [00:00, 545.44it/s]                         \n",
      "101.02339999999987it [00:00, 575.67it/s]                        \n",
      "100.53609999999924it [00:00, 552.46it/s]                        \n",
      "101.23380000000026it [00:00, 671.33it/s]                        \n",
      "100.07399999999944it [00:00, 572.10it/s]                         \n",
      "100.51989999999978it [00:00, 658.79it/s]                        \n",
      "100.1208600000001it [00:00, 426.95it/s]                         \n",
      "100.58970000000045it [00:00, 584.11it/s]              \n",
      "100.3201899999994it [00:00, 614.86it/s]                         \n",
      "100.82249999999982it [00:00, 544.32it/s]                         \n",
      "100.97380000000055it [00:00, 512.93it/s]                         \n",
      "100.72855099999964it [00:00, 593.04it/s]                         \n",
      "100.54971000000108it [00:00, 562.24it/s]                        \n",
      "101.33460000000008it [00:00, 470.71it/s]                         \n",
      "100.08457999999865it [00:00, 562.77it/s]                       \n",
      "101.13069999999931it [00:00, 485.30it/s]                         \n",
      "100.06760000000037it [00:00, 435.65it/s]                         \n",
      "100.25849999999991it [00:00, 629.32it/s]                        \n",
      "100.3793079999997it [00:00, 721.45it/s]                          \n",
      "100.44389999999964it [00:00, 566.47it/s]                        \n",
      "100.19509999999968it [00:00, 623.98it/s]                        \n",
      "100.83597999999984it [00:00, 683.44it/s]                        \n",
      "101.16990999999996it [00:00, 726.61it/s]                       \n",
      "100.33540000000096it [00:00, 571.94it/s]                        \n",
      "100.70130000000023it [00:00, 538.94it/s]                        \n",
      "100.94689999999974it [00:00, 548.05it/s]                         \n",
      "100.83749999999907it [00:00, 610.77it/s]                        \n",
      "101.07420000000008it [00:00, 630.68it/s]                         \n",
      "101.04830000000038it [00:00, 614.66it/s]                        \n"
     ]
    }
   ],
   "source": [
    "min_rt = rt_range[0][0]\n",
    "max_rt = rt_range[0][1]\n",
    "controllers = defaultdict(list)\n",
    "controller_to_mzml = {}\n",
    "\n",
    "mzml_dir = os.path.join(out_dir, 'mzmlFiles')\n",
    "num_classes = len(n_samples)\n",
    "sample_idx = 0\n",
    "for j in range(num_classes):\n",
    "    num_samples = n_samples[j]\n",
    "    for i in range(num_samples):\n",
    "        fname = os.path.join(save_location, 'sample_%d.p' % sample_idx) \n",
    "        sample = load_obj(fname)\n",
    "        sample_idx += 1\n",
    "        \n",
    "        mass_spec = IndependentMassSpectrometer(POSITIVE, sample, density=ps.density_estimator)\n",
    "        mzml_filename = os.path.join(mzml_dir,'sample_id_0_number_%d' % i + '_class_%d.mzML' % j)\n",
    "        controller = SimpleMs1Controller(mass_spec)\n",
    "        controller.run(min_rt,max_rt)\n",
    "        controller.write_mzML('my_analysis', mzml_filename)\n",
    "        \n",
    "        controllers[j].append(controller)\n",
    "        controller_to_mzml[controller] = (j, mzml_filename, )"
   ]
  },
  {
   "cell_type": "markdown",
   "metadata": {},
   "source": [
    "Print out the missing peaks"
   ]
  },
  {
   "cell_type": "code",
   "execution_count": null,
   "metadata": {},
   "outputs": [],
   "source": [
    "def get_chem_to_peaks(controller):\n",
    "    chem_to_peaks = defaultdict(list)\n",
    "    frag_events = controller.mass_spec.fragmentation_events\n",
    "    for frag_event in frag_events:\n",
    "        chem = frag_event.chem\n",
    "        peaks = frag_event.peaks\n",
    "        chem_to_peaks[chem].extend(peaks)\n",
    "    return chem_to_peaks"
   ]
  },
  {
   "cell_type": "code",
   "execution_count": null,
   "metadata": {},
   "outputs": [],
   "source": [
    "for controller, (current_class, mzml_filename) in controller_to_mzml.items():\n",
    "    controller_peaks = get_chem_to_peaks(controller)\n",
    "    basename = os.path.basename(mzml_filename)\n",
    "    front, back = os.path.splitext(mzml_filename)\n",
    "    outfile = front + '.csv'\n",
    "\n",
    "    missing_peaks = []            \n",
    "    for other_class in range(num_classes):\n",
    "        if current_class == other_class:\n",
    "            continue\n",
    "\n",
    "        # get the peaks that are present in current_class but missing in other_class\n",
    "        missing_chems = multiple_samples.missing_chemicals[other_class]\n",
    "        for chem in missing_chems:\n",
    "            peaks = controller_peaks[chem]\n",
    "            for peak in peaks:\n",
    "                row = (chem.formula.formula_string, current_class, other_class, peak.mz, peak.rt, peak.intensity)\n",
    "                missing_peaks.append(row)\n",
    "    \n",
    "    # convert to dataframe\n",
    "    columns = ['formula', 'present_in', 'missing_in', 'mz', 'RT', 'intensity']\n",
    "    missing_df = pd.DataFrame(missing_peaks, columns=columns)\n",
    "    missing_df.to_csv(os.path.join(out_dir, 'MissingChemicals', os.path.basename(outfile)))"
   ]
  },
  {
   "cell_type": "code",
   "execution_count": null,
   "metadata": {},
   "outputs": [],
   "source": []
  }
 ],
 "metadata": {
  "kernelspec": {
   "display_name": "Python 3",
   "language": "python",
   "name": "python3"
  },
  "language_info": {
   "codemirror_mode": {
    "name": "ipython",
    "version": 3
   },
   "file_extension": ".py",
   "mimetype": "text/x-python",
   "name": "python",
   "nbconvert_exporter": "python",
   "pygments_lexer": "ipython3",
   "version": "3.7.3"
  }
 },
 "nbformat": 4,
 "nbformat_minor": 2
}
